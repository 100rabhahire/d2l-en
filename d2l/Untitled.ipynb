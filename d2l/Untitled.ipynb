{
 "cells": [
  {
   "cell_type": "code",
   "execution_count": 1,
   "id": "becoming-comment",
   "metadata": {
    "ExecuteTime": {
     "end_time": "2021-01-19T17:18:58.331818Z",
     "start_time": "2021-01-19T17:18:58.328303Z"
    }
   },
   "outputs": [],
   "source": [
    "opt = '''ALIGN_CLOSING_BRACKET_WITH_VISUAL_INDENT=True,\n",
    "ALLOW_MULTILINE_LAMBDAS=False,\n",
    "ALLOW_MULTILINE_DICTIONARY_KEYS=False,\n",
    "ALLOW_SPLIT_BEFORE_DEFAULT_OR_NAMED_ASSIGNS=True,\n",
    "ALLOW_SPLIT_BEFORE_DICT_VALUE=True,\n",
    "ARITHMETIC_PRECEDENCE_INDICATION=False,\n",
    "BLANK_LINE_BEFORE_NESTED_CLASS_OR_DEF=False,\n",
    "BLANK_LINE_BEFORE_CLASS_DOCSTRING=False,\n",
    "BLANK_LINE_BEFORE_MODULE_DOCSTRING=False,\n",
    "BLANK_LINES_AROUND_TOP_LEVEL_DEFINITION=2,\n",
    "BLANK_LINES_BETWEEN_TOP_LEVEL_IMPORTS_AND_VARIABLES=1,\n",
    "COALESCE_BRACKETS=False,\n",
    "COLUMN_LIMIT=79,\n",
    "CONTINUATION_ALIGN_STYLE='SPACE',\n",
    "CONTINUATION_INDENT_WIDTH=4,\n",
    "DEDENT_CLOSING_BRACKETS=False,\n",
    "INDENT_CLOSING_BRACKETS=False,\n",
    "DISABLE_ENDING_COMMA_HEURISTIC=False,\n",
    "EACH_DICT_ENTRY_ON_SEPARATE_LINE=True,\n",
    "FORCE_MULTILINE_DICT=False,\n",
    "I18N_COMMENT='',\n",
    "I18N_FUNCTION_CALL='',\n",
    "INDENT_DICTIONARY_VALUE=False,\n",
    "INDENT_WIDTH=4,\n",
    "INDENT_BLANK_LINES=False,\n",
    "JOIN_MULTIPLE_LINES=True,\n",
    "NO_SPACES_AROUND_SELECTED_BINARY_OPERATORS=set(),\n",
    "SPACE_BETWEEN_ENDING_COMMA_AND_CLOSING_BRACKET=True,\n",
    "SPACE_INSIDE_BRACKETS=False,\n",
    "SPACES_AROUND_POWER_OPERATOR=False,\n",
    "SPACES_AROUND_DEFAULT_OR_NAMED_ASSIGN=False,\n",
    "SPACES_AROUND_DICT_DELIMITERS=False,\n",
    "SPACES_AROUND_LIST_DELIMITERS=False,\n",
    "SPACES_AROUND_SUBSCRIPT_COLON=False,\n",
    "SPACES_AROUND_TUPLE_DELIMITERS=False,\n",
    "SPACES_BEFORE_COMMENT=2,\n",
    "SPLIT_ARGUMENTS_WHEN_COMMA_TERMINATED=False,\n",
    "SPLIT_ALL_COMMA_SEPARATED_VALUES=False,\n",
    "SPLIT_ALL_TOP_LEVEL_COMMA_SEPARATED_VALUES=False,\n",
    "SPLIT_BEFORE_ARITHMETIC_OPERATOR=False,\n",
    "SPLIT_BEFORE_BITWISE_OPERATOR=True,\n",
    "SPLIT_BEFORE_CLOSING_BRACKET=True,\n",
    "SPLIT_BEFORE_DICT_SET_GENERATOR=True,\n",
    "SPLIT_BEFORE_DOT=False,\n",
    "SPLIT_BEFORE_EXPRESSION_AFTER_OPENING_PAREN=False,\n",
    "SPLIT_BEFORE_FIRST_ARGUMENT=False,\n",
    "SPLIT_BEFORE_LOGICAL_OPERATOR=True,\n",
    "SPLIT_BEFORE_NAMED_ASSIGNS=True,\n",
    "SPLIT_COMPLEX_COMPREHENSION=False,'''\n",
    "\n"
   ]
  },
  {
   "cell_type": "code",
   "execution_count": null,
   "id": "foster-title",
   "metadata": {},
   "outputs": [],
   "source": [
    "yapf mxnet.py --style='{arithmetic_precedence_indication:True,disable_ending_comma_heuristic:True,space_between_ending_comma_and_closing_bracket:False,split_before_closing_bracket:False,split_before_dict_set_generator:False,split_before_logical_operator:False,split_before_named_assigns:False}'\n",
    "\n"
   ]
  },
  {
   "cell_type": "code",
   "execution_count": 13,
   "id": "every-track",
   "metadata": {
    "ExecuteTime": {
     "end_time": "2021-01-19T17:35:38.234951Z",
     "start_time": "2021-01-19T17:34:20.225994Z"
    },
    "scrolled": true
   },
   "outputs": [
    {
     "name": "stdout",
     "output_type": "stream",
     "text": [
      "ALIGN_CLOSING_BRACKET_WITH_VISUAL_INDENT True\n",
      "ALLOW_MULTILINE_LAMBDAS False\n",
      "ALLOW_MULTILINE_DICTIONARY_KEYS False\n",
      "ALLOW_SPLIT_BEFORE_DEFAULT_OR_NAMED_ASSIGNS True\n",
      "ALLOW_SPLIT_BEFORE_DICT_VALUE True\n",
      "ARITHMETIC_PRECEDENCE_INDICATION False\n",
      "BLANK_LINE_BEFORE_NESTED_CLASS_OR_DEF False\n",
      "BLANK_LINE_BEFORE_CLASS_DOCSTRING False\n",
      "BLANK_LINE_BEFORE_MODULE_DOCSTRING False\n",
      "BLANK_LINES_AROUND_TOP_LEVEL_DEFINITION 2\n",
      "BLANK_LINES_BETWEEN_TOP_LEVEL_IMPORTS_AND_VARIABLES 1\n",
      "COALESCE_BRACKETS False\n",
      "COLUMN_LIMIT 79\n",
      "CONTINUATION_ALIGN_STYLE 'SPACE'\n",
      "CONTINUATION_INDENT_WIDTH 4\n",
      "DEDENT_CLOSING_BRACKETS False\n",
      "INDENT_CLOSING_BRACKETS False\n",
      "DISABLE_ENDING_COMMA_HEURISTIC False\n",
      "EACH_DICT_ENTRY_ON_SEPARATE_LINE True\n",
      "FORCE_MULTILINE_DICT False\n",
      "I18N_COMMENT ''\n",
      "I18N_FUNCTION_CALL ''\n",
      "INDENT_DICTIONARY_VALUE False\n",
      "INDENT_WIDTH 4\n",
      "INDENT_BLANK_LINES False\n",
      "JOIN_MULTIPLE_LINES True\n",
      "NO_SPACES_AROUND_SELECTED_BINARY_OPERATORS set()\n",
      "SPACE_BETWEEN_ENDING_COMMA_AND_CLOSING_BRACKET True\n",
      "SPACE_INSIDE_BRACKETS False\n",
      "SPACES_AROUND_POWER_OPERATOR False\n",
      "SPACES_AROUND_DEFAULT_OR_NAMED_ASSIGN False\n",
      "SPACES_AROUND_DICT_DELIMITERS False\n",
      "SPACES_AROUND_LIST_DELIMITERS False\n",
      "SPACES_AROUND_SUBSCRIPT_COLON False\n",
      "SPACES_AROUND_TUPLE_DELIMITERS False\n",
      "SPACES_BEFORE_COMMENT 2\n",
      "SPLIT_ARGUMENTS_WHEN_COMMA_TERMINATED False\n",
      "SPLIT_ALL_COMMA_SEPARATED_VALUES False\n",
      "SPLIT_ALL_TOP_LEVEL_COMMA_SEPARATED_VALUES False\n",
      "SPLIT_BEFORE_ARITHMETIC_OPERATOR False\n",
      "SPLIT_BEFORE_BITWISE_OPERATOR True\n",
      "SPLIT_BEFORE_CLOSING_BRACKET True\n",
      "SPLIT_BEFORE_DICT_SET_GENERATOR True\n",
      "SPLIT_BEFORE_DOT False\n",
      "SPLIT_BEFORE_EXPRESSION_AFTER_OPENING_PAREN False\n",
      "SPLIT_BEFORE_FIRST_ARGUMENT False\n",
      "SPLIT_BEFORE_LOGICAL_OPERATOR True\n",
      "SPLIT_BEFORE_NAMED_ASSIGNS True\n",
      "SPLIT_COMPLEX_COMPREHENSION False\n"
     ]
    }
   ],
   "source": [
    "import os\n",
    "\n",
    "\n",
    "for l in opt.splitlines():\n",
    "    a, b = l.replace(',','').split('=')\n",
    "    print(a, b)\n",
    "    if b == 'True':\n",
    "        new = 'False'\n",
    "    elif b == 'False':\n",
    "        new = 'True'\n",
    "    else:\n",
    "        continue\n",
    "    cmd = \"yapf mxnet.py --style='{\"+a.lower()+\":\"+new+\"}' --diff >\"+f\"{a.lower()}_{new}.txt\"\n",
    "    os.system(cmd)\n",
    "\n"
   ]
  },
  {
   "cell_type": "code",
   "execution_count": null,
   "id": "adult-adobe",
   "metadata": {},
   "outputs": [],
   "source": [
    "import"
   ]
  }
 ],
 "metadata": {
  "kernelspec": {
   "display_name": "Python 3",
   "language": "python",
   "name": "python3"
  },
  "language_info": {
   "codemirror_mode": {
    "name": "ipython",
    "version": 3
   },
   "file_extension": ".py",
   "mimetype": "text/x-python",
   "name": "python",
   "nbconvert_exporter": "python",
   "pygments_lexer": "ipython3",
   "version": "3.8.5"
  }
 },
 "nbformat": 4,
 "nbformat_minor": 5
}
